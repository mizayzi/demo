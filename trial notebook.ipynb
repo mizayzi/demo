{
    "cells": [
        {
            "metadata": {},
            "cell_type": "code",
            "source": "\nimport types\nimport pandas as pd\nfrom botocore.client import Config\nimport ibm_boto3\n\ndef __iter__(self): return 0\n\n# @hidden_cell\n# The following code accesses a file in your IBM Cloud Object Storage. It includes your credentials.\n# You might want to remove those credentials before you share the notebook.\nclient_e0e630564c05451b9c9fdb0a537776bb = ibm_boto3.client(service_name='s3',\n    ibm_api_key_id='ZVqmv-uSBCaDp1RARulwo7UT8C8BkVka8nVJ8jXI7kfS',\n    ibm_auth_endpoint=\"https://iam.eu-gb.bluemix.net/oidc/token\",\n    config=Config(signature_version='oauth'),\n    endpoint_url='https://s3.eu-geo.objectstorage.service.networklayer.com')\n\nbody = client_e0e630564c05451b9c9fdb0a537776bb.get_object(Bucket='trial-donotdelete-pr-03rcjtv4mrsgkd',Key='jfk_weather_cleaned.csv')['Body']\n# add missing __iter__ method, so pandas accepts body as file-like object\nif not hasattr(body, \"__iter__\"): body.__iter__ = types.MethodType( __iter__, body )\n\n# If you are reading an Excel file into a pandas DataFrame, replace `read_csv` by `read_excel` in the next statement.\ndf_data_0 = pd.read_csv(body)\ndf_data_0.head()\n",
            "execution_count": 1,
            "outputs": [
                {
                    "output_type": "execute_result",
                    "execution_count": 1,
                    "data": {
                        "text/plain": "                  DATE  VISIBILITY  DRYBULBTEMPF  WETBULBTEMPF  DewPointTempF  \\\n0  2010-01-01 00:51:00         6.0            33            32             31   \n1  2010-01-01 01:51:00         6.0            33            33             32   \n2  2010-01-01 02:51:00         5.0            33            33             32   \n3  2010-01-01 03:51:00         5.0            33            33             32   \n4  2010-01-01 04:51:00         5.0            33            32             31   \n\n   RelativeHumidity  WindSpeed  WindDirection  StationPressure  \\\n0                92          0              0            29.97   \n1                96          0              0            29.97   \n2                96          0              0            29.97   \n3                96          0              0            29.95   \n4                92          0              0            29.93   \n\n   SeaLevelPressure  Precip  \n0             29.99    0.01  \n1             29.99    0.02  \n2             29.99    0.02  \n3             29.97    0.02  \n4             29.96    0.02  ",
                        "text/html": "<div>\n<style scoped>\n    .dataframe tbody tr th:only-of-type {\n        vertical-align: middle;\n    }\n\n    .dataframe tbody tr th {\n        vertical-align: top;\n    }\n\n    .dataframe thead th {\n        text-align: right;\n    }\n</style>\n<table border=\"1\" class=\"dataframe\">\n  <thead>\n    <tr style=\"text-align: right;\">\n      <th></th>\n      <th>DATE</th>\n      <th>VISIBILITY</th>\n      <th>DRYBULBTEMPF</th>\n      <th>WETBULBTEMPF</th>\n      <th>DewPointTempF</th>\n      <th>RelativeHumidity</th>\n      <th>WindSpeed</th>\n      <th>WindDirection</th>\n      <th>StationPressure</th>\n      <th>SeaLevelPressure</th>\n      <th>Precip</th>\n    </tr>\n  </thead>\n  <tbody>\n    <tr>\n      <th>0</th>\n      <td>2010-01-01 00:51:00</td>\n      <td>6.0</td>\n      <td>33</td>\n      <td>32</td>\n      <td>31</td>\n      <td>92</td>\n      <td>0</td>\n      <td>0</td>\n      <td>29.97</td>\n      <td>29.99</td>\n      <td>0.01</td>\n    </tr>\n    <tr>\n      <th>1</th>\n      <td>2010-01-01 01:51:00</td>\n      <td>6.0</td>\n      <td>33</td>\n      <td>33</td>\n      <td>32</td>\n      <td>96</td>\n      <td>0</td>\n      <td>0</td>\n      <td>29.97</td>\n      <td>29.99</td>\n      <td>0.02</td>\n    </tr>\n    <tr>\n      <th>2</th>\n      <td>2010-01-01 02:51:00</td>\n      <td>5.0</td>\n      <td>33</td>\n      <td>33</td>\n      <td>32</td>\n      <td>96</td>\n      <td>0</td>\n      <td>0</td>\n      <td>29.97</td>\n      <td>29.99</td>\n      <td>0.02</td>\n    </tr>\n    <tr>\n      <th>3</th>\n      <td>2010-01-01 03:51:00</td>\n      <td>5.0</td>\n      <td>33</td>\n      <td>33</td>\n      <td>32</td>\n      <td>96</td>\n      <td>0</td>\n      <td>0</td>\n      <td>29.95</td>\n      <td>29.97</td>\n      <td>0.02</td>\n    </tr>\n    <tr>\n      <th>4</th>\n      <td>2010-01-01 04:51:00</td>\n      <td>5.0</td>\n      <td>33</td>\n      <td>32</td>\n      <td>31</td>\n      <td>92</td>\n      <td>0</td>\n      <td>0</td>\n      <td>29.93</td>\n      <td>29.96</td>\n      <td>0.02</td>\n    </tr>\n  </tbody>\n</table>\n</div>"
                    },
                    "metadata": {}
                }
            ]
        },
        {
            "metadata": {},
            "cell_type": "code",
            "source": "",
            "execution_count": null,
            "outputs": []
        }
    ],
    "metadata": {
        "kernelspec": {
            "name": "python3",
            "display_name": "Python 3.6",
            "language": "python"
        },
        "language_info": {
            "name": "python",
            "version": "3.6.9",
            "mimetype": "text/x-python",
            "codemirror_mode": {
                "name": "ipython",
                "version": 3
            },
            "pygments_lexer": "ipython3",
            "nbconvert_exporter": "python",
            "file_extension": ".py"
        }
    },
    "nbformat": 4,
    "nbformat_minor": 1
}